{
 "cells": [
  {
   "cell_type": "markdown",
   "metadata": {},
   "source": [
    "# Déséquilibre en classification et Challenge"
   ]
  },
  {
   "cell_type": "markdown",
   "metadata": {},
   "source": [
    "## 1 - Classification à partir d'un jeu de données déséquilibré "
   ]
  },
  {
   "cell_type": "markdown",
   "metadata": {},
   "source": [
    "### 1.1 Jeu de données artificiellement généré "
   ]
  },
  {
   "cell_type": "code",
   "execution_count": 1,
   "metadata": {},
   "outputs": [],
   "source": [
    "from sklearn.datasets import make_classification\n",
    "from sklearn.model_selection import train_test_split\n",
    "from sklearn.neighbors import KNeighborsClassifier\n",
    "from sklearn.naive_bayes import GaussianNB\n",
    "from sklearn.tree import DecisionTreeClassifier\n",
    "from sklearn.metrics import classification_report\n",
    "from sklearn.dummy import DummyClassifier\n",
    "from sklearn.metrics import confusion_matrix\n",
    "import seaborn as sns\n",
    "import numpy as np \n",
    "import matplotlib.pyplot as plt"
   ]
  },
  {
   "cell_type": "code",
   "execution_count": 2,
   "metadata": {},
   "outputs": [
    {
     "name": "stdout",
     "output_type": "stream",
     "text": [
      "*********** Rapport avec déséquilibre ************\n"
     ]
    }
   ],
   "source": [
    "X,Y = make_classification(n_samples=150, n_features=20, n_informative=10,\n",
    "                                n_redundant=5, n_repeated=5, n_classes=2,\n",
    "                                n_clusters_per_class=2, weights=[0.9, 0.1],\n",
    "                                flip_y=0.01, class_sep=1.5, hypercube=True)\n",
    "cnames=[\"M\",\"m\"]\n",
    "\n",
    "X_app,X_test,Y_app,Y_test=train_test_split(X,Y,test_size=0.30,random_state=12)\n",
    "\n",
    "print(\"*********** Rapport avec déséquilibre ************\") "
   ]
  },
  {
   "cell_type": "code",
   "execution_count": 3,
   "metadata": {},
   "outputs": [
    {
     "name": "stdout",
     "output_type": "stream",
     "text": [
      "Maj:               precision    recall  f1-score   support\n",
      "\n",
      "           M       0.88      0.95      0.92        40\n",
      "           m       0.00      0.00      0.00         5\n",
      "\n",
      "    accuracy                           0.84        45\n",
      "   macro avg       0.44      0.47      0.46        45\n",
      "weighted avg       0.79      0.84      0.81        45\n",
      "\n"
     ]
    }
   ],
   "source": [
    "clf_dm = DummyClassifier(strategy=\"stratified\") \n",
    "clf_dm.fit(X_app,Y_app)\n",
    "y_pred_dm = clf_dm.predict(X_test)\n",
    "print(\"Maj:\",classification_report(Y_test, y_pred_dm, target_names=cnames))"
   ]
  },
  {
   "cell_type": "code",
   "execution_count": 4,
   "metadata": {},
   "outputs": [
    {
     "name": "stdout",
     "output_type": "stream",
     "text": [
      "NB:                precision    recall  f1-score   support\n",
      "\n",
      "           M       1.00      0.95      0.97        40\n",
      "           m       0.71      1.00      0.83         5\n",
      "\n",
      "    accuracy                           0.96        45\n",
      "   macro avg       0.86      0.97      0.90        45\n",
      "weighted avg       0.97      0.96      0.96        45\n",
      "\n"
     ]
    }
   ],
   "source": [
    "clf_nb = GaussianNB()\n",
    "clf_nb.fit(X_app,Y_app)\n",
    "y_pred_nb = clf_nb.predict(X_test)\n",
    "print(\"NB: \",classification_report(Y_test, y_pred_nb, target_names=cnames))"
   ]
  },
  {
   "cell_type": "code",
   "execution_count": 5,
   "metadata": {},
   "outputs": [
    {
     "name": "stdout",
     "output_type": "stream",
     "text": [
      "DT:                precision    recall  f1-score   support\n",
      "\n",
      "           M       1.00      0.95      0.97        40\n",
      "           m       0.71      1.00      0.83         5\n",
      "\n",
      "    accuracy                           0.96        45\n",
      "   macro avg       0.86      0.97      0.90        45\n",
      "weighted avg       0.97      0.96      0.96        45\n",
      "\n"
     ]
    }
   ],
   "source": [
    "clf_dt = DecisionTreeClassifier()\n",
    "clf_dt.fit(X_app,Y_app)\n",
    "y_pred_dt = clf_dt.predict(X_test)\n",
    "print(\"DT: \",classification_report(Y_test, y_pred_nb, target_names=cnames))\n"
   ]
  },
  {
   "cell_type": "code",
   "execution_count": 6,
   "metadata": {
    "scrolled": true
   },
   "outputs": [
    {
     "name": "stdout",
     "output_type": "stream",
     "text": [
      "KP:                precision    recall  f1-score   support\n",
      "\n",
      "           M       1.00      0.95      0.97        40\n",
      "           m       0.71      1.00      0.83         5\n",
      "\n",
      "    accuracy                           0.96        45\n",
      "   macro avg       0.86      0.97      0.90        45\n",
      "weighted avg       0.97      0.96      0.96        45\n",
      "\n"
     ]
    }
   ],
   "source": [
    "clf_kppv = KNeighborsClassifier()\n",
    "clf_kppv.fit(X_app,Y_app)\n",
    "y_pred_kppv = clf_kppv.predict(X_test)\n",
    "print(\"KP: \",classification_report(Y_test, y_pred_nb, target_names=cnames))"
   ]
  },
  {
   "cell_type": "markdown",
   "metadata": {},
   "source": [
    "**Question 1**"
   ]
  },
  {
   "cell_type": "markdown",
   "metadata": {},
   "source": [
    "Le code ci-dessus renvoie le rapport de classification de plusieurs classifieur sur un jeu de données déséquililbré. \n",
    "\n",
    "Le rapport renvoit comme information : \n",
    "\n",
    "- Precision : le rapport entre les vrais positifs et la somme des vrais et faux positifs. C'est l'exactitude du classifieur pour une classe. \n",
    "    - *Accuracy of positive predictions.*\n",
    "    - *TP/(TP + FP)*\n",
    "- Recall : mesure de la complétude du classifieur, c'est-à-dire la capacité d'un classifieur à trouver correctement toutes les instances positives.\n",
    "    - *Fraction of positives that were correctly identified.*\n",
    "    - *TP/(TP+FN)*\n",
    "- f1-score : moyenne harmonique pondérée de la précision et du rappel\n",
    "    - *En règle générale, la moyenne pondérée de F1 devrait être utilisée pour comparer les modèles de classificateurs, et non la précision globale.*\n",
    "    - *2x(Recall x Precision) / (Recall + Precision)*\n",
    "- Support : le nombre d'occurrences réelles de la classe dans l'ensemble de données spécifié\n",
    "\n",
    "\n",
    "- macro avg : moyenne non pondérée \n",
    "- weighted avg : moyenne pondérée par le support (le nombre d'instances vraies pour chaque étiquette). Cela modifie \" macro \" pour prendre en compte le déséquilibre des étiquettes ; cela peut donner un score F qui ne se situe pas entre la précision et le rappel."
   ]
  },
  {
   "cell_type": "markdown",
   "metadata": {},
   "source": [
    "---\n",
    "[Reference 1](https://www.scikit-yb.org/en/latest/api/classifier/classification_report.html)\n",
    "[Reference 2](https://muthu.co/understanding-the-classification-report-in-sklearn/)\n",
    "[Reference 3](https://scikit-learn.org/stable/modules/generated/sklearn.metrics.precision_recall_fscore_support.html#sklearn.metrics.precision_recall_fscore_support)\n",
    "\n",
    "---"
   ]
  },
  {
   "cell_type": "markdown",
   "metadata": {},
   "source": [
    "**Question 2** "
   ]
  },
  {
   "cell_type": "code",
   "execution_count": 7,
   "metadata": {
    "scrolled": false
   },
   "outputs": [
    {
     "name": "stdout",
     "output_type": "stream",
     "text": [
      "*********** Rapport avec déséquilibre / weights = [0.1, 0.9]************\n",
      "Maj:               precision    recall  f1-score   support\n",
      "\n",
      "           M       0.97      0.86      0.91        43\n",
      "           m       0.14      0.50      0.22         2\n",
      "\n",
      "    accuracy                           0.84        45\n",
      "   macro avg       0.56      0.68      0.57        45\n",
      "weighted avg       0.94      0.84      0.88        45\n",
      "\n",
      "NB:                precision    recall  f1-score   support\n",
      "\n",
      "           M       1.00      0.98      0.99        43\n",
      "           m       0.67      1.00      0.80         2\n",
      "\n",
      "    accuracy                           0.98        45\n",
      "   macro avg       0.83      0.99      0.89        45\n",
      "weighted avg       0.99      0.98      0.98        45\n",
      "\n",
      "DT:                precision    recall  f1-score   support\n",
      "\n",
      "           M       0.95      0.95      0.95        43\n",
      "           m       0.00      0.00      0.00         2\n",
      "\n",
      "    accuracy                           0.91        45\n",
      "   macro avg       0.48      0.48      0.48        45\n",
      "weighted avg       0.91      0.91      0.91        45\n",
      "\n",
      "KP:                precision    recall  f1-score   support\n",
      "\n",
      "           M       1.00      1.00      1.00        43\n",
      "           m       1.00      1.00      1.00         2\n",
      "\n",
      "    accuracy                           1.00        45\n",
      "   macro avg       1.00      1.00      1.00        45\n",
      "weighted avg       1.00      1.00      1.00        45\n",
      "\n",
      "*********** Rapport avec déséquilibre / weights = [0.2, 0.8]************\n",
      "Maj:               precision    recall  f1-score   support\n",
      "\n",
      "           M       0.83      0.89      0.86        38\n",
      "           m       0.00      0.00      0.00         7\n",
      "\n",
      "    accuracy                           0.76        45\n",
      "   macro avg       0.41      0.45      0.43        45\n",
      "weighted avg       0.70      0.76      0.73        45\n",
      "\n",
      "NB:                precision    recall  f1-score   support\n",
      "\n",
      "           M       0.97      0.97      0.97        38\n",
      "           m       0.86      0.86      0.86         7\n",
      "\n",
      "    accuracy                           0.96        45\n",
      "   macro avg       0.92      0.92      0.92        45\n",
      "weighted avg       0.96      0.96      0.96        45\n",
      "\n",
      "DT:                precision    recall  f1-score   support\n",
      "\n",
      "           M       0.95      0.92      0.93        38\n",
      "           m       0.62      0.71      0.67         7\n",
      "\n",
      "    accuracy                           0.89        45\n",
      "   macro avg       0.79      0.82      0.80        45\n",
      "weighted avg       0.90      0.89      0.89        45\n",
      "\n",
      "KP:                precision    recall  f1-score   support\n",
      "\n",
      "           M       0.88      1.00      0.94        38\n",
      "           m       1.00      0.29      0.44         7\n",
      "\n",
      "    accuracy                           0.89        45\n",
      "   macro avg       0.94      0.64      0.69        45\n",
      "weighted avg       0.90      0.89      0.86        45\n",
      "\n",
      "*********** Rapport avec déséquilibre / weights = [0.3, 0.7]************\n",
      "Maj:               precision    recall  f1-score   support\n",
      "\n",
      "           M       0.95      0.88      0.91        42\n",
      "           m       0.17      0.33      0.22         3\n",
      "\n",
      "    accuracy                           0.84        45\n",
      "   macro avg       0.56      0.61      0.57        45\n",
      "weighted avg       0.90      0.84      0.87        45\n",
      "\n",
      "NB:                precision    recall  f1-score   support\n",
      "\n",
      "           M       0.98      1.00      0.99        42\n",
      "           m       1.00      0.67      0.80         3\n",
      "\n",
      "    accuracy                           0.98        45\n",
      "   macro avg       0.99      0.83      0.89        45\n",
      "weighted avg       0.98      0.98      0.98        45\n",
      "\n",
      "DT:                precision    recall  f1-score   support\n",
      "\n",
      "           M       0.95      1.00      0.98        42\n",
      "           m       1.00      0.33      0.50         3\n",
      "\n",
      "    accuracy                           0.96        45\n",
      "   macro avg       0.98      0.67      0.74        45\n",
      "weighted avg       0.96      0.96      0.94        45\n",
      "\n",
      "KP:                precision    recall  f1-score   support\n",
      "\n",
      "           M       0.95      1.00      0.98        42\n",
      "           m       1.00      0.33      0.50         3\n",
      "\n",
      "    accuracy                           0.96        45\n",
      "   macro avg       0.98      0.67      0.74        45\n",
      "weighted avg       0.96      0.96      0.94        45\n",
      "\n",
      "*********** Rapport avec déséquilibre / weights = [0.5, 0.5]************\n",
      "Maj:               precision    recall  f1-score   support\n",
      "\n",
      "           M       0.88      0.95      0.91        39\n",
      "           m       0.33      0.17      0.22         6\n",
      "\n",
      "    accuracy                           0.84        45\n",
      "   macro avg       0.61      0.56      0.57        45\n",
      "weighted avg       0.81      0.84      0.82        45\n",
      "\n",
      "NB:                precision    recall  f1-score   support\n",
      "\n",
      "           M       0.90      0.92      0.91        39\n",
      "           m       0.40      0.33      0.36         6\n",
      "\n",
      "    accuracy                           0.84        45\n",
      "   macro avg       0.65      0.63      0.64        45\n",
      "weighted avg       0.83      0.84      0.84        45\n",
      "\n",
      "DT:                precision    recall  f1-score   support\n",
      "\n",
      "           M       0.92      0.85      0.88        39\n",
      "           m       0.33      0.50      0.40         6\n",
      "\n",
      "    accuracy                           0.80        45\n",
      "   macro avg       0.62      0.67      0.64        45\n",
      "weighted avg       0.84      0.80      0.82        45\n",
      "\n",
      "KP:                precision    recall  f1-score   support\n",
      "\n",
      "           M       0.89      1.00      0.94        39\n",
      "           m       1.00      0.17      0.29         6\n",
      "\n",
      "    accuracy                           0.89        45\n",
      "   macro avg       0.94      0.58      0.61        45\n",
      "weighted avg       0.90      0.89      0.85        45\n",
      "\n"
     ]
    }
   ],
   "source": [
    "l_weights=[[0.1, 0.9],[0.2,0.8],[0.3,0.7],[0.5,0.5]]\n",
    "\n",
    "for i in l_weights : \n",
    "    X,Y = make_classification(n_samples=150, n_features=20, n_informative=10,\n",
    "                                n_redundant=5, n_repeated=5, n_classes=2,\n",
    "                                n_clusters_per_class=2, weights=[0.9, 0.1],\n",
    "                                flip_y=0.01, class_sep=1.5, hypercube=True)\n",
    "    cnames=[\"M\",\"m\"]\n",
    "\n",
    "    X_app,X_test,Y_app,Y_test=train_test_split(X,Y,test_size=0.30,random_state=12)\n",
    "\n",
    "    print(\"*********** Rapport avec déséquilibre / weights = {0}************\".format(i)) \n",
    "    \n",
    "    clf_dm = DummyClassifier(strategy=\"stratified\") \n",
    "    clf_dm.fit(X_app,Y_app)\n",
    "    y_pred_dm = clf_dm.predict(X_test)\n",
    "    print(\"Maj:\",classification_report(Y_test, y_pred_dm, target_names=cnames))\n",
    "    \n",
    "    clf_nb = GaussianNB()\n",
    "    clf_nb.fit(X_app,Y_app)\n",
    "    y_pred_nb = clf_nb.predict(X_test)\n",
    "    print(\"NB: \",classification_report(Y_test, y_pred_nb, target_names=cnames))\n",
    "\n",
    "    clf_dt = DecisionTreeClassifier()\n",
    "    clf_dt.fit(X_app,Y_app)\n",
    "    y_pred_dt = clf_dt.predict(X_test)\n",
    "    print(\"DT: \",classification_report(Y_test, y_pred_dt, target_names=cnames))\n",
    "\n",
    "    clf_kppv = KNeighborsClassifier()\n",
    "    clf_kppv.fit(X_app,Y_app)\n",
    "    y_pred_kppv = clf_kppv.predict(X_test)\n",
    "    print(\"KP: \",classification_report(Y_test, y_pred_kppv, target_names=cnames))"
   ]
  },
  {
   "cell_type": "markdown",
   "metadata": {},
   "source": [
    "La diminution du déséquilibre permet d'observer une amélioration des résultats pour certains modèles, tandis que d'autres parraissent meilleurs lorsque le weight est déséquilibré. "
   ]
  },
  {
   "cell_type": "markdown",
   "metadata": {},
   "source": [
    "### 1.2 Sur de vraies données  "
   ]
  },
  {
   "cell_type": "markdown",
   "metadata": {},
   "source": [
    "**Question 1**"
   ]
  },
  {
   "cell_type": "code",
   "execution_count": 8,
   "metadata": {},
   "outputs": [],
   "source": [
    "from sklearn.datasets import load_breast_cancer"
   ]
  },
  {
   "cell_type": "code",
   "execution_count": 9,
   "metadata": {},
   "outputs": [],
   "source": [
    "data = load_breast_cancer()"
   ]
  },
  {
   "cell_type": "code",
   "execution_count": 10,
   "metadata": {},
   "outputs": [],
   "source": [
    "X, y = load_breast_cancer(return_X_y=True)\n",
    "X_train, X_test, Y_train, Y_test = train_test_split(X, y, test_size=0.30,random_state=12)"
   ]
  },
  {
   "cell_type": "code",
   "execution_count": 11,
   "metadata": {},
   "outputs": [
    {
     "name": "stdout",
     "output_type": "stream",
     "text": [
      "*********** Rapport avec déséquilibre ************\n",
      "Maj:               precision    recall  f1-score   support\n",
      "\n",
      "   malignant       0.38      0.36      0.37        64\n",
      "      benign       0.63      0.64      0.64       107\n",
      "\n",
      "    accuracy                           0.54       171\n",
      "   macro avg       0.50      0.50      0.50       171\n",
      "weighted avg       0.53      0.54      0.54       171\n",
      "\n",
      "NB:                precision    recall  f1-score   support\n",
      "\n",
      "   malignant       0.95      0.84      0.89        64\n",
      "      benign       0.91      0.97      0.94       107\n",
      "\n",
      "    accuracy                           0.92       171\n",
      "   macro avg       0.93      0.91      0.92       171\n",
      "weighted avg       0.93      0.92      0.92       171\n",
      "\n",
      "DT:                precision    recall  f1-score   support\n",
      "\n",
      "   malignant       0.87      0.86      0.87        64\n",
      "      benign       0.92      0.93      0.92       107\n",
      "\n",
      "    accuracy                           0.90       171\n",
      "   macro avg       0.89      0.89      0.89       171\n",
      "weighted avg       0.90      0.90      0.90       171\n",
      "\n",
      "KP:                precision    recall  f1-score   support\n",
      "\n",
      "   malignant       0.91      0.78      0.84        64\n",
      "      benign       0.88      0.95      0.91       107\n",
      "\n",
      "    accuracy                           0.89       171\n",
      "   macro avg       0.89      0.87      0.88       171\n",
      "weighted avg       0.89      0.89      0.89       171\n",
      "\n"
     ]
    }
   ],
   "source": [
    "cnames=list(data.target_names)\n",
    "\n",
    "print(\"*********** Rapport avec déséquilibre ************\") \n",
    "\n",
    "clf_dm = DummyClassifier(strategy=\"stratified\") \n",
    "clf_dm.fit(X_train,Y_train)\n",
    "y_pred_dm = clf_dm.predict(X_test)\n",
    "print(\"Maj:\",classification_report(Y_test, y_pred_dm, target_names=cnames))\n",
    "\n",
    "clf_nb = GaussianNB()\n",
    "clf_nb.fit(X_train,Y_train)\n",
    "y_pred_nb = clf_nb.predict(X_test)\n",
    "print(\"NB: \",classification_report(Y_test, y_pred_nb, target_names=cnames))\n",
    "\n",
    "clf_dt = DecisionTreeClassifier()\n",
    "clf_dt.fit(X_train,Y_train)\n",
    "y_pred_dt = clf_dt.predict(X_test)\n",
    "print(\"DT: \",classification_report(Y_test, y_pred_dt, target_names=cnames))\n",
    "\n",
    "clf_kppv = KNeighborsClassifier()\n",
    "clf_kppv.fit(X_train,Y_train)\n",
    "y_pred_kppv = clf_kppv.predict(X_test)\n",
    "print(\"KP: \",classification_report(Y_test, y_pred_kppv, target_names=cnames))"
   ]
  },
  {
   "cell_type": "markdown",
   "metadata": {},
   "source": [
    "**Question 2**"
   ]
  },
  {
   "cell_type": "code",
   "execution_count": 12,
   "metadata": {},
   "outputs": [],
   "source": [
    "from collections import Counter\n",
    "from random import randint"
   ]
  },
  {
   "cell_type": "code",
   "execution_count": 14,
   "metadata": {},
   "outputs": [
    {
     "name": "stdout",
     "output_type": "stream",
     "text": [
      "dict_values([212, 212])\n"
     ]
    }
   ],
   "source": [
    "while max(Counter(y).values()) - min(Counter(y).values()) != 0:\n",
    "    i = randint(0, len(y))\n",
    "    if y[i] == 1 : \n",
    "        X = np.delete(X,(i),axis=0)\n",
    "        y = np.delete(y,i)\n",
    "print(Counter(y).values())"
   ]
  },
  {
   "cell_type": "code",
   "execution_count": 15,
   "metadata": {},
   "outputs": [
    {
     "name": "stdout",
     "output_type": "stream",
     "text": [
      "(424, 30)\n",
      "(424,)\n"
     ]
    }
   ],
   "source": [
    "print(X.shape)\n",
    "print(y.shape)"
   ]
  },
  {
   "cell_type": "code",
   "execution_count": 16,
   "metadata": {},
   "outputs": [],
   "source": [
    "X_train, X_test, Y_train, Y_test = train_test_split(X, y, test_size=0.30,random_state=12)"
   ]
  },
  {
   "cell_type": "code",
   "execution_count": 17,
   "metadata": {},
   "outputs": [
    {
     "name": "stdout",
     "output_type": "stream",
     "text": [
      "*********** Rapport avec déséquilibre ************\n",
      "Maj:               precision    recall  f1-score   support\n",
      "\n",
      "   malignant       0.96      0.89      0.93        57\n",
      "      benign       0.92      0.97      0.95        71\n",
      "\n",
      "    accuracy                           0.94       128\n",
      "   macro avg       0.94      0.93      0.94       128\n",
      "weighted avg       0.94      0.94      0.94       128\n",
      "\n",
      "NB:                precision    recall  f1-score   support\n",
      "\n",
      "   malignant       0.96      0.88      0.92        57\n",
      "      benign       0.91      0.97      0.94        71\n",
      "\n",
      "    accuracy                           0.93       128\n",
      "   macro avg       0.93      0.92      0.93       128\n",
      "weighted avg       0.93      0.93      0.93       128\n",
      "\n",
      "DT:                precision    recall  f1-score   support\n",
      "\n",
      "   malignant       0.91      0.93      0.92        57\n",
      "      benign       0.94      0.93      0.94        71\n",
      "\n",
      "    accuracy                           0.93       128\n",
      "   macro avg       0.93      0.93      0.93       128\n",
      "weighted avg       0.93      0.93      0.93       128\n",
      "\n",
      "KP:                precision    recall  f1-score   support\n",
      "\n",
      "   malignant       0.96      0.88      0.92        57\n",
      "      benign       0.91      0.97      0.94        71\n",
      "\n",
      "    accuracy                           0.93       128\n",
      "   macro avg       0.93      0.92      0.93       128\n",
      "weighted avg       0.93      0.93      0.93       128\n",
      "\n"
     ]
    }
   ],
   "source": [
    "print(\"*********** Rapport avec déséquilibre ************\") \n",
    "\n",
    "clf_dm = DummyClassifier(strategy=\"stratified\") \n",
    "clf_dm.fit(X_train,Y_train)\n",
    "y_pred_dm = clf_nb.predict(X_test)\n",
    "print(\"Maj:\",classification_report(Y_test, y_pred_dm, target_names=cnames))\n",
    "\n",
    "clf_nb = GaussianNB()\n",
    "clf_nb.fit(X_train,Y_train)\n",
    "y_pred_nb = clf_nb.predict(X_test)\n",
    "print(\"NB: \",classification_report(Y_test, y_pred_nb, target_names=cnames))\n",
    "\n",
    "clf_dt = DecisionTreeClassifier()\n",
    "clf_dt.fit(X_train,Y_train)\n",
    "y_pred_dt = clf_dt.predict(X_test)\n",
    "print(\"DT: \",classification_report(Y_test, y_pred_dt, target_names=cnames))\n",
    "\n",
    "clf_kppv = KNeighborsClassifier()\n",
    "clf_kppv.fit(X_train,Y_train)\n",
    "y_pred_kppv = clf_kppv.predict(X_test)\n",
    "print(\"KP: \",classification_report(Y_test, y_pred_kppv, target_names=cnames))"
   ]
  },
  {
   "cell_type": "markdown",
   "metadata": {},
   "source": [
    "**Question 3**"
   ]
  },
  {
   "cell_type": "markdown",
   "metadata": {},
   "source": [
    "1ère technique"
   ]
  },
  {
   "cell_type": "code",
   "execution_count": 18,
   "metadata": {},
   "outputs": [],
   "source": [
    "X, y = load_breast_cancer(return_X_y=True)"
   ]
  },
  {
   "cell_type": "code",
   "execution_count": 19,
   "metadata": {},
   "outputs": [
    {
     "name": "stdout",
     "output_type": "stream",
     "text": [
      "dict_values([357, 357])\n"
     ]
    }
   ],
   "source": [
    "while max(Counter(y).values()) != min(Counter(y).values()):\n",
    "    i = randint(0, len(y)-1)\n",
    "    if y[i] == 0 :\n",
    "        X = np.append(X,[X[i]], axis = 0)\n",
    "        y = np.append(y,[y[i]], axis = 0)\n",
    "\n",
    "print(Counter(y).values())"
   ]
  },
  {
   "cell_type": "code",
   "execution_count": 20,
   "metadata": {},
   "outputs": [
    {
     "name": "stdout",
     "output_type": "stream",
     "text": [
      "(714, 30)\n",
      "(714,)\n"
     ]
    }
   ],
   "source": [
    "print(X.shape)\n",
    "print(y.shape)"
   ]
  },
  {
   "cell_type": "code",
   "execution_count": 21,
   "metadata": {},
   "outputs": [],
   "source": [
    "X_train, X_test, Y_train, Y_test = train_test_split(X, y, test_size=0.30,random_state=12)"
   ]
  },
  {
   "cell_type": "code",
   "execution_count": 22,
   "metadata": {
    "scrolled": true
   },
   "outputs": [
    {
     "name": "stdout",
     "output_type": "stream",
     "text": [
      "*********** Rapport avec déséquilibre ************\n",
      "Maj:               precision    recall  f1-score   support\n",
      "\n",
      "   malignant       0.99      0.88      0.93       117\n",
      "      benign       0.87      0.99      0.93        98\n",
      "\n",
      "    accuracy                           0.93       215\n",
      "   macro avg       0.93      0.94      0.93       215\n",
      "weighted avg       0.94      0.93      0.93       215\n",
      "\n",
      "NB:                precision    recall  f1-score   support\n",
      "\n",
      "   malignant       0.98      0.87      0.92       117\n",
      "      benign       0.86      0.98      0.92        98\n",
      "\n",
      "    accuracy                           0.92       215\n",
      "   macro avg       0.92      0.93      0.92       215\n",
      "weighted avg       0.93      0.92      0.92       215\n",
      "\n",
      "DT:                precision    recall  f1-score   support\n",
      "\n",
      "   malignant       0.93      0.94      0.94       117\n",
      "      benign       0.93      0.92      0.92        98\n",
      "\n",
      "    accuracy                           0.93       215\n",
      "   macro avg       0.93      0.93      0.93       215\n",
      "weighted avg       0.93      0.93      0.93       215\n",
      "\n",
      "KP:                precision    recall  f1-score   support\n",
      "\n",
      "   malignant       0.98      0.89      0.93       117\n",
      "      benign       0.88      0.98      0.93        98\n",
      "\n",
      "    accuracy                           0.93       215\n",
      "   macro avg       0.93      0.93      0.93       215\n",
      "weighted avg       0.94      0.93      0.93       215\n",
      "\n"
     ]
    }
   ],
   "source": [
    "print(\"*********** Rapport avec déséquilibre ************\") \n",
    "\n",
    "clf_dm = DummyClassifier(strategy=\"stratified\") \n",
    "clf_dm.fit(X_train,Y_train)\n",
    "y_pred_dm = clf_nb.predict(X_test)\n",
    "print(\"Maj:\",classification_report(Y_test, y_pred_dm, target_names=cnames))\n",
    "\n",
    "clf_nb = GaussianNB()\n",
    "clf_nb.fit(X_train,Y_train)\n",
    "y_pred_nb = clf_nb.predict(X_test)\n",
    "print(\"NB: \",classification_report(Y_test, y_pred_nb, target_names=cnames))\n",
    "\n",
    "clf_dt = DecisionTreeClassifier()\n",
    "clf_dt.fit(X_train,Y_train)\n",
    "y_pred_dt = clf_dt.predict(X_test)\n",
    "print(\"DT: \",classification_report(Y_test, y_pred_dt, target_names=cnames))\n",
    "\n",
    "clf_kppv = KNeighborsClassifier()\n",
    "clf_kppv.fit(X_train,Y_train)\n",
    "y_pred_kppv = clf_kppv.predict(X_test)\n",
    "print(\"KP: \",classification_report(Y_test, y_pred_kppv, target_names=cnames))"
   ]
  },
  {
   "cell_type": "code",
   "execution_count": 23,
   "metadata": {},
   "outputs": [
    {
     "data": {
      "image/png": "[encoded data removed]",
      "text/plain": [
       "<Figure size 432x288 with 2 Axes>"
      ]
     },
     "metadata": {
      "needs_background": "light"
     },
     "output_type": "display_data"
    }
   ],
   "source": [
    "sns.heatmap(confusion_matrix(Y_test, y_pred_dm), annot = True)\n",
    "plt.title('Confusion Matrix Dummy', fontsize = 20) \n",
    "plt.xlabel('y_test', fontsize = 15) \n",
    "plt.ylabel('y_pred', fontsize = 15) \n",
    "plt.show()"
   ]
  },
  {
   "cell_type": "code",
   "execution_count": 24,
   "metadata": {},
   "outputs": [
    {
     "data": {
      "image/png": "[encoded data removed]",
      "text/plain": [
       "<Figure size 432x288 with 2 Axes>"
      ]
     },
     "metadata": {
      "needs_background": "light"
     },
     "output_type": "display_data"
    }
   ],
   "source": [
    "sns.heatmap(confusion_matrix(Y_test, y_pred_nb), annot = True)\n",
    "plt.title('Confusion Matrix GaussianNB', fontsize = 20) \n",
    "plt.xlabel('y_test', fontsize = 15) \n",
    "plt.ylabel('y_pred', fontsize = 15) \n",
    "plt.show()"
   ]
  },
  {
   "cell_type": "code",
   "execution_count": 25,
   "metadata": {},
   "outputs": [
    {
     "data": {
      "image/png": "[encoded data removed]",
      "text/plain": [
       "<Figure size 432x288 with 2 Axes>"
      ]
     },
     "metadata": {
      "needs_background": "light"
     },
     "output_type": "display_data"
    }
   ],
   "source": [
    "sns.heatmap(confusion_matrix(Y_test, y_pred_dt), annot = True)\n",
    "plt.title('Confusion Matrix Tree', fontsize = 20) \n",
    "plt.xlabel('y_test', fontsize = 15) \n",
    "plt.ylabel('y_pred', fontsize = 15) \n",
    "plt.show()"
   ]
  },
  {
   "cell_type": "code",
   "execution_count": 26,
   "metadata": {},
   "outputs": [
    {
     "data": {
      "image/png": "[encoded data removed]",
      "text/plain": [
       "<Figure size 432x288 with 2 Axes>"
      ]
     },
     "metadata": {
      "needs_background": "light"
     },
     "output_type": "display_data"
    }
   ],
   "source": [
    "sns.heatmap(confusion_matrix(Y_test, y_pred_kppv), annot = True)\n",
    "plt.title('Confusion Matrix Kppv', fontsize = 20) \n",
    "plt.xlabel('y_test', fontsize = 15) \n",
    "plt.ylabel('y_pred', fontsize = 15) \n",
    "plt.show()"
   ]
  },
  {
   "cell_type": "markdown",
   "metadata": {},
   "source": [
    "2ème technique"
   ]
  },
  {
   "cell_type": "code",
   "execution_count": 27,
   "metadata": {},
   "outputs": [],
   "source": [
    "X, y = load_breast_cancer(return_X_y=True)"
   ]
  },
  {
   "cell_type": "code",
   "execution_count": 28,
   "metadata": {},
   "outputs": [
    {
     "name": "stdout",
     "output_type": "stream",
     "text": [
      "dict_values([357, 357])\n"
     ]
    }
   ],
   "source": [
    "while max(Counter(y).values()) != min(Counter(y).values()):\n",
    "    i = randint(0, len(y)-1)\n",
    "    if y[i] == 0 :\n",
    "        mu = abs(np.mean(y[i]))\n",
    "        sigma = np.std(y[i])\n",
    "        noise = np.random.normal(mu, sigma, 30)\n",
    "        noisy = X[i].copy()\n",
    "        noisy += noise\n",
    "        X = np.append(X,[noisy], axis = 0)\n",
    "        y = np.append(y,[y[i]], axis = 0)\n",
    "\n",
    "print(Counter(y).values())"
   ]
  },
  {
   "cell_type": "code",
   "execution_count": 29,
   "metadata": {},
   "outputs": [
    {
     "name": "stdout",
     "output_type": "stream",
     "text": [
      "(714, 30)\n",
      "(714,)\n"
     ]
    }
   ],
   "source": [
    "print(X.shape)\n",
    "print(y.shape)"
   ]
  },
  {
   "cell_type": "code",
   "execution_count": 30,
   "metadata": {},
   "outputs": [],
   "source": [
    "X_train, X_test, Y_train, Y_test = train_test_split(X, y, test_size=0.30,random_state=12)"
   ]
  },
  {
   "cell_type": "code",
   "execution_count": 31,
   "metadata": {
    "scrolled": true
   },
   "outputs": [
    {
     "name": "stdout",
     "output_type": "stream",
     "text": [
      "*********** Rapport avec déséquilibre ************\n",
      "Maj:               precision    recall  f1-score   support\n",
      "\n",
      "   malignant       0.57      0.53      0.55       117\n",
      "      benign       0.48      0.52      0.50        98\n",
      "\n",
      "    accuracy                           0.53       215\n",
      "   macro avg       0.52      0.53      0.52       215\n",
      "weighted avg       0.53      0.53      0.53       215\n",
      "\n",
      "NB:                precision    recall  f1-score   support\n",
      "\n",
      "   malignant       0.97      0.87      0.92       117\n",
      "      benign       0.86      0.97      0.91        98\n",
      "\n",
      "    accuracy                           0.92       215\n",
      "   macro avg       0.92      0.92      0.92       215\n",
      "weighted avg       0.92      0.92      0.92       215\n",
      "\n",
      "DT:                precision    recall  f1-score   support\n",
      "\n",
      "   malignant       0.98      0.95      0.97       117\n",
      "      benign       0.94      0.98      0.96        98\n",
      "\n",
      "    accuracy                           0.96       215\n",
      "   macro avg       0.96      0.96      0.96       215\n",
      "weighted avg       0.96      0.96      0.96       215\n",
      "\n",
      "KP:                precision    recall  f1-score   support\n",
      "\n",
      "   malignant       0.98      0.90      0.94       117\n",
      "      benign       0.89      0.98      0.93        98\n",
      "\n",
      "    accuracy                           0.93       215\n",
      "   macro avg       0.94      0.94      0.93       215\n",
      "weighted avg       0.94      0.93      0.94       215\n",
      "\n"
     ]
    }
   ],
   "source": [
    "print(\"*********** Rapport avec déséquilibre ************\") \n",
    "\n",
    "clf_nb = DummyClassifier(strategy=\"stratified\") \n",
    "clf_nb.fit(X_train,Y_train)\n",
    "y_pred_nb = clf_nb.predict(X_test)\n",
    "print(\"Maj:\",classification_report(Y_test, y_pred_nb, target_names=cnames))\n",
    "\n",
    "clf_nb = GaussianNB()\n",
    "clf_nb.fit(X_train,Y_train)\n",
    "y_pred_nb = clf_nb.predict(X_test)\n",
    "print(\"NB: \",classification_report(Y_test, y_pred_nb, target_names=cnames))\n",
    "\n",
    "clf_dt = DecisionTreeClassifier()\n",
    "clf_dt.fit(X_train,Y_train)\n",
    "y_pred_nb = clf_dt.predict(X_test)\n",
    "print(\"DT: \",classification_report(Y_test, y_pred_nb, target_names=cnames))\n",
    "\n",
    "clf_kppv = KNeighborsClassifier()\n",
    "clf_kppv.fit(X_train,Y_train)\n",
    "y_pred_nb = clf_kppv.predict(X_test)\n",
    "print(\"KP: \",classification_report(Y_test, y_pred_nb, target_names=cnames))"
   ]
  },
  {
   "cell_type": "code",
   "execution_count": 32,
   "metadata": {},
   "outputs": [
    {
     "data": {
      "image/png": "[encoded data removed]",
      "text/plain": [
       "<Figure size 1080x1080 with 8 Axes>"
      ]
     },
     "metadata": {
      "needs_background": "light"
     },
     "output_type": "display_data"
    }
   ],
   "source": [
    "plt.figure(4,figsize=(15,15))\n",
    "\n",
    "plt.subplot(221)\n",
    "sns.heatmap(confusion_matrix(Y_test, y_pred_dm), annot = True)\n",
    "plt.title('Confusion Matrix Dummy', fontsize = 20) \n",
    "plt.xlabel('y_test', fontsize = 15) \n",
    "plt.ylabel('y_pred', fontsize = 15) \n",
    "\n",
    "\n",
    "plt.subplot(222)\n",
    "sns.heatmap(confusion_matrix(Y_test, y_pred_nb), annot = True)\n",
    "plt.title('Confusion Matrix Gaussian', fontsize = 20) \n",
    "plt.xlabel('y_test', fontsize = 15) \n",
    "plt.ylabel('y_pred', fontsize = 15) \n",
    "\n",
    "\n",
    "\n",
    "plt.subplot(223)\n",
    "sns.heatmap(confusion_matrix(Y_test, y_pred_dt), annot = True)\n",
    "plt.title('Confusion Matrix Tree', fontsize = 20) \n",
    "plt.xlabel('y_test', fontsize = 15) \n",
    "plt.ylabel('y_pred', fontsize = 15) \n",
    "\n",
    "\n",
    "plt.subplot(224)\n",
    "sns.heatmap(confusion_matrix(Y_test, y_pred_kppv), annot = True)\n",
    "plt.title('Confusion Matrix Kppv', fontsize = 20) \n",
    "plt.xlabel('y_test', fontsize = 15) \n",
    "plt.ylabel('y_pred', fontsize = 15) \n",
    "\n",
    "plt.show()"
   ]
  },
  {
   "cell_type": "markdown",
   "metadata": {},
   "source": [
    "## 2 - Challenge sur donnees réelles (Kaggle), pour pratiquer"
   ]
  },
  {
   "cell_type": "code",
   "execution_count": 33,
   "metadata": {},
   "outputs": [],
   "source": [
    "import pandas as pd\n",
    "from sklearn import preprocessing\n",
    "\n",
    "df = pd.read_csv('titanic.csv', sep = ';')\n",
    "le = preprocessing.LabelEncoder()"
   ]
  },
  {
   "cell_type": "code",
   "execution_count": 34,
   "metadata": {},
   "outputs": [],
   "source": [
    "df['Sex'] = le.fit_transform(df['Sex'])"
   ]
  },
  {
   "cell_type": "code",
   "execution_count": null,
   "metadata": {},
   "outputs": [],
   "source": [
    "nb_manquantes = len(df['Embarked'][df.Embarked.isnull()])\n",
    "val_remplacement = df['Embarked'].dropna().mode().values\n",
    "df['Embarked'][df['Embarked'].isnull()] = val_remplacement\n",
    "\n",
    "print(df.iloc[96,11])\n",
    "print(df.iloc[99,11])"
   ]
  },
  {
   "cell_type": "markdown",
   "metadata": {},
   "source": [
    "Les deux valeurs manquantes ont été remplacées par la valeur S, qui est présente en majorité dans la colonne Embarked."
   ]
  },
  {
   "cell_type": "code",
   "execution_count": null,
   "metadata": {},
   "outputs": [],
   "source": [
    "df['Embarked'] = le.fit_transform(df['Embarked'])"
   ]
  },
  {
   "cell_type": "code",
   "execution_count": null,
   "metadata": {},
   "outputs": [],
   "source": [
    "X_train = df['Survived']"
   ]
  },
  {
   "cell_type": "code",
   "execution_count": null,
   "metadata": {},
   "outputs": [],
   "source": [
    "df = df.drop(['Survived', 'Cabin', 'Name', 'Ticket', 'PassengerId','Fare'], axis=1)"
   ]
  },
  {
   "cell_type": "code",
   "execution_count": null,
   "metadata": {},
   "outputs": [],
   "source": []
  }
 ],
 "metadata": {
  "kernelspec": {
   "display_name": "Python 3",
   "language": "python",
   "name": "python3"
  },
  "language_info": {
   "codemirror_mode": {
    "name": "ipython",
    "version": 3
   },
   "file_extension": ".py",
   "mimetype": "text/x-python",
   "name": "python",
   "nbconvert_exporter": "python",
   "pygments_lexer": "ipython3",
   "version": "3.8.3"
  }
 },
 "nbformat": 4,
 "nbformat_minor": 4
}
