{
 "cells": [
  {
   "cell_type": "markdown",
   "metadata": {},
   "source": [
    "# Déséquilibre en classification et Challenge"
   ]
  },
  {
   "cell_type": "markdown",
   "metadata": {},
   "source": [
    "## 2 - Challenge sur donnees réelles (Kaggle), pour pratiquer"
   ]
  },
  {
   "cell_type": "markdown",
   "metadata": {},
   "source": [
    "### Import"
   ]
  },
  {
   "cell_type": "code",
   "execution_count": 1,
   "metadata": {},
   "outputs": [],
   "source": [
    "import pandas as pd\n",
    "from sklearn import preprocessing\n",
    "from sklearn.datasets import make_classification\n",
    "from sklearn.model_selection import train_test_split\n",
    "from sklearn.neighbors import KNeighborsClassifier\n",
    "from sklearn.naive_bayes import GaussianNB\n",
    "from sklearn.tree import DecisionTreeClassifier\n",
    "from sklearn.metrics import classification_report\n",
    "from sklearn.dummy import DummyClassifier\n",
    "from sklearn.metrics import confusion_matrix\n",
    "import seaborn as sns\n",
    "import numpy as np \n",
    "import matplotlib.pyplot as plt\n",
    "from collections import Counter\n",
    "from statsmodels.stats.contingency_tables import mcnemar"
   ]
  },
  {
   "cell_type": "markdown",
   "metadata": {},
   "source": [
    "### Traitement des données"
   ]
  },
  {
   "cell_type": "code",
   "execution_count": 2,
   "metadata": {},
   "outputs": [],
   "source": [
    "df = pd.read_csv('titanic.csv', sep = ';')\n",
    "yn = list(Counter(df.Survived).keys())\n",
    "le = preprocessing.LabelEncoder()"
   ]
  },
  {
   "cell_type": "code",
   "execution_count": 3,
   "metadata": {},
   "outputs": [],
   "source": [
    "df['Sex'] = le.fit_transform(df['Sex'])\n"
   ]
  },
  {
   "cell_type": "code",
   "execution_count": 4,
   "metadata": {},
   "outputs": [
    {
     "name": "stdout",
     "output_type": "stream",
     "text": [
      "S\n",
      "S\n"
     ]
    },
    {
     "name": "stderr",
     "output_type": "stream",
     "text": [
      "<ipython-input-4-a6c8d84d76f8>:3: SettingWithCopyWarning: \n",
      "A value is trying to be set on a copy of a slice from a DataFrame\n",
      "\n",
      "See the caveats in the documentation: https://pandas.pydata.org/pandas-docs/stable/user_guide/indexing.html#returning-a-view-versus-a-copy\n",
      "  df['Embarked'][df['Embarked'].isnull()] = val_remplacement\n"
     ]
    }
   ],
   "source": [
    "nb_manquantes = len(df['Embarked'][df.Embarked.isnull()])\n",
    "val_remplacement = df['Embarked'].dropna().mode().values\n",
    "df['Embarked'][df['Embarked'].isnull()] = val_remplacement\n",
    "\n",
    "print(df.iloc[96,11])\n",
    "print(df.iloc[99,11])"
   ]
  },
  {
   "cell_type": "code",
   "execution_count": 5,
   "metadata": {},
   "outputs": [],
   "source": [
    "df['Embarked'] = le.fit_transform(df['Embarked'])"
   ]
  },
  {
   "cell_type": "code",
   "execution_count": 6,
   "metadata": {},
   "outputs": [],
   "source": [
    "df = df.drop(['Name', 'PassengerId', 'Ticket','Cabin', 'Fare'] ,axis = 1 )"
   ]
  },
  {
   "cell_type": "code",
   "execution_count": 7,
   "metadata": {},
   "outputs": [],
   "source": [
    "df['Survived'] = le.fit_transform(df['Survived'])"
   ]
  },
  {
   "cell_type": "code",
   "execution_count": 8,
   "metadata": {},
   "outputs": [],
   "source": [
    "y = df['Survived']\n",
    "df = df.drop(['Survived'], axis = 1)"
   ]
  },
  {
   "cell_type": "code",
   "execution_count": 9,
   "metadata": {
    "scrolled": true
   },
   "outputs": [],
   "source": [
    "from sklearn.impute import SimpleImputer\n",
    "remplir = SimpleImputer(missing_values = np.nan) # adapter le parametrage, cf la doc sklearn \n",
    "df = remplir.fit_transform(df)"
   ]
  },
  {
   "cell_type": "code",
   "execution_count": 10,
   "metadata": {},
   "outputs": [],
   "source": [
    "X = df"
   ]
  },
  {
   "cell_type": "code",
   "execution_count": 11,
   "metadata": {},
   "outputs": [],
   "source": [
    "X_train, X_test, Y_train, Y_test = train_test_split(X, y, test_size=0.30,random_state=12)"
   ]
  },
  {
   "cell_type": "markdown",
   "metadata": {},
   "source": [
    "### Classifcation"
   ]
  },
  {
   "cell_type": "code",
   "execution_count": 12,
   "metadata": {
    "scrolled": true
   },
   "outputs": [
    {
     "name": "stdout",
     "output_type": "stream",
     "text": [
      "*********** Rapport avec déséquilibre ************\n",
      "NB:                precision    recall  f1-score   support\n",
      "\n",
      "         Yes       0.81      0.84      0.83       166\n",
      "          No       0.73      0.69      0.71       102\n",
      "\n",
      "    accuracy                           0.78       268\n",
      "   macro avg       0.77      0.76      0.77       268\n",
      "weighted avg       0.78      0.78      0.78       268\n",
      "\n",
      "KP:                precision    recall  f1-score   support\n",
      "\n",
      "         Yes       0.77      0.90      0.83       166\n",
      "          No       0.78      0.57      0.66       102\n",
      "\n",
      "    accuracy                           0.78       268\n",
      "   macro avg       0.78      0.74      0.75       268\n",
      "weighted avg       0.78      0.78      0.77       268\n",
      "\n"
     ]
    }
   ],
   "source": [
    "cnames= yn\n",
    "\n",
    "print(\"*********** Rapport avec déséquilibre ************\") \n",
    "\n",
    "clf_nb = GaussianNB()\n",
    "clf_nb.fit(X_train,Y_train)\n",
    "y_pred_nb = clf_nb.predict(X_test)\n",
    "print(\"NB: \",classification_report(Y_test, y_pred_nb, target_names=cnames))\n",
    "\n",
    "clf_kppv = KNeighborsClassifier()\n",
    "clf_kppv.fit(X_train,Y_train)\n",
    "y_pred_kppv = clf_kppv.predict(X_test)\n",
    "print(\"KP: \",classification_report(Y_test, y_pred_kppv, target_names=cnames))"
   ]
  },
  {
   "cell_type": "code",
   "execution_count": 13,
   "metadata": {},
   "outputs": [],
   "source": [
    "conf_mat_nb = confusion_matrix(Y_test, y_pred_nb)\n",
    "conf_mat_kppv = confusion_matrix(Y_test, y_pred_kppv)"
   ]
  },
  {
   "cell_type": "code",
   "execution_count": 14,
   "metadata": {
    "scrolled": true
   },
   "outputs": [
    {
     "data": {
      "text/plain": [
       "Text(570.5454545454544, 0.5, 'y_pred')"
      ]
     },
     "execution_count": 14,
     "metadata": {},
     "output_type": "execute_result"
    },
    {
     "data": {
      "image/png": "[encoded data removed]",
      "text/plain": [
       "<Figure size 1080x1080 with 4 Axes>"
      ]
     },
     "metadata": {
      "needs_background": "light"
     },
     "output_type": "display_data"
    }
   ],
   "source": [
    "plt.figure(4,figsize=(15,15))\n",
    "\n",
    "plt.subplot(221)\n",
    "sns.heatmap(conf_mat_nb, annot = True)\n",
    "plt.title('Confusion Matrix Gaussian', fontsize = 20) \n",
    "plt.xlabel('y_test', fontsize = 15) \n",
    "plt.ylabel('y_pred', fontsize = 15) \n",
    "\n",
    "\n",
    "plt.subplot(222)\n",
    "sns.heatmap(conf_mat_kppv, annot = True)\n",
    "plt.title('Confusion Matrix Kppv', fontsize = 20) \n",
    "plt.xlabel('y_test', fontsize = 15) \n",
    "plt.ylabel('y_pred', fontsize = 15) \n",
    "\n"
   ]
  },
  {
   "cell_type": "markdown",
   "metadata": {},
   "source": [
    "Le classifieur GaussienNB parait meilleur que le classifieur KNeighbors, en effet la précision et le recall est meilleur en moyenne, de plus, le nombre de faux positif et faux négaitf est moins important. "
   ]
  },
  {
   "cell_type": "markdown",
   "metadata": {},
   "source": [
    "### Test McNemar"
   ]
  },
  {
   "cell_type": "code",
   "execution_count": 15,
   "metadata": {},
   "outputs": [],
   "source": [
    "table = [[conf_mat_nb[0][1]+conf_mat_nb[1][0] + conf_mat_kppv[0][1]+conf_mat_kppv[1][0],\n",
    "         conf_mat_nb[0][0]+conf_mat_nb[1][1]+conf_mat_kppv[0][1]+conf_mat_kppv[1][0]],\n",
    "         [conf_mat_nb[0][1]+conf_mat_nb[1][0]+ conf_mat_kppv[0][0]+conf_mat_kppv[1][1],\n",
    "          conf_mat_nb[0][0]+conf_mat_nb[1][1] + conf_mat_kppv[0][0]+conf_mat_kppv[1][1]]]"
   ]
  },
  {
   "cell_type": "code",
   "execution_count": 16,
   "metadata": {},
   "outputs": [
    {
     "name": "stdout",
     "output_type": "stream",
     "text": [
      "statistic=266.000, p-value=0.897\n",
      "Non rejet de H0\n"
     ]
    }
   ],
   "source": [
    "# calculate mcnemar test\n",
    "result = mcnemar(table, exact=True)\n",
    "# summarize the finding\n",
    "print('statistic=%.3f, p-value=%.3f' % (result.statistic, result.pvalue))\n",
    "# interpret the p-value\n",
    "alpha = 0.05\n",
    "if result.pvalue > alpha:\n",
    "\tprint('Non rejet de H0')\n",
    "else:\n",
    "\tprint('Rejet de H0')"
   ]
  },
  {
   "cell_type": "markdown",
   "metadata": {},
   "source": [
    "Les resultats ne sont pas statistiquement différents, on ne peut donc pas dire si un classifieur est meilleur qu'un autre. "
   ]
  },
  {
   "cell_type": "markdown",
   "metadata": {},
   "source": [
    "[Reference Test de McNemar](https://machinelearningmastery.com/mcnemars-test-for-machine-learning/)"
   ]
  },
  {
   "cell_type": "markdown",
   "metadata": {},
   "source": [
    "### Test de McNemar sur 10 essais "
   ]
  },
  {
   "cell_type": "code",
   "execution_count": 17,
   "metadata": {},
   "outputs": [],
   "source": [
    "table = [[0,0],[0,0]]"
   ]
  },
  {
   "cell_type": "code",
   "execution_count": 18,
   "metadata": {},
   "outputs": [],
   "source": [
    "for i in range(10) :\n",
    "    X_train, X_test, Y_train, Y_test = train_test_split(X, y, test_size=0.30,random_state=12)\n",
    "\n",
    "    clf_nb = GaussianNB()\n",
    "    clf_nb.fit(X_train,Y_train)\n",
    "    y_pred_nb = clf_nb.predict(X_test)\n",
    "\n",
    "\n",
    "    clf_kppv = KNeighborsClassifier()\n",
    "    clf_kppv.fit(X_train,Y_train)\n",
    "    y_pred_kppv = clf_kppv.predict(X_test)\n",
    "    \n",
    "    conf_mat_nb = confusion_matrix(Y_test, y_pred_nb)\n",
    "    conf_mat_kppv = confusion_matrix(Y_test, y_pred_kppv)\n",
    "    \n",
    "    table[0][0] += conf_mat_nb[0][1]+conf_mat_nb[1][0] + conf_mat_kppv[0][1]+conf_mat_kppv[1][0]\n",
    "    table[0][1] += conf_mat_nb[0][0]+conf_mat_nb[1][1]+conf_mat_kppv[0][1]+conf_mat_kppv[1][0]\n",
    "    table[1][0] += conf_mat_nb[0][1]+conf_mat_nb[1][0]+ conf_mat_kppv[0][0]+conf_mat_kppv[1][1]\n",
    "    table[1][1] += conf_mat_nb[0][0]+conf_mat_nb[1][1] + conf_mat_kppv[0][0]+conf_mat_kppv[1][1]\n"
   ]
  },
  {
   "cell_type": "code",
   "execution_count": 20,
   "metadata": {},
   "outputs": [],
   "source": [
    "table[0][0] = table[0][0]/10\n",
    "table[0][1] = table[0][0]/10\n",
    "table[1][0] = table[0][0]/10\n",
    "table[1][1] = table[0][0]/10"
   ]
  },
  {
   "cell_type": "code",
   "execution_count": 24,
   "metadata": {},
   "outputs": [
    {
     "name": "stdout",
     "output_type": "stream",
     "text": [
      "statistic=11.800, p-value=1.000\n",
      "Non rejet de H0\n"
     ]
    }
   ],
   "source": [
    "# calculate mcnemar test\n",
    "result = mcnemar(table, exact=True)\n",
    "# summarize the finding\n",
    "print('statistic=%.3f, p-value=%.3f' % (result.statistic, result.pvalue))\n",
    "# interpret the p-value\n",
    "alpha = 0.05\n",
    "if result.pvalue > alpha:\n",
    "\tprint('Non rejet de H0')\n",
    "else:\n",
    "\tprint('Rejet de H0')"
   ]
  }
 ],
 "metadata": {
  "kernelspec": {
   "display_name": "Python 3",
   "language": "python",
   "name": "python3"
  },
  "language_info": {
   "codemirror_mode": {
    "name": "ipython",
    "version": 3
   },
   "file_extension": ".py",
   "mimetype": "text/x-python",
   "name": "python",
   "nbconvert_exporter": "python",
   "pygments_lexer": "ipython3",
   "version": "3.8.3"
  }
 },
 "nbformat": 4,
 "nbformat_minor": 4
}
