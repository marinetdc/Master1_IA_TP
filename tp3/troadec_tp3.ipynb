{
 "cells": [
  {
   "cell_type": "code",
   "execution_count": 30,
   "metadata": {},
   "outputs": [],
   "source": [
    "# utiliser matplotlib\n",
    "%matplotlib inline\n",
    "#matplotlib.use('Agg')\n",
    "import matplotlib.pyplot as plt\n",
    "import seaborn as sns; sns.set()\n",
    "from sklearn.datasets import load_digits\n",
    "from sklearn.model_selection import GridSearchCV\n",
    "from sklearn.model_selection import train_test_split\n",
    "import numpy as np\n",
    "from sklearn.svm import SVC"
   ]
  },
  {
   "cell_type": "markdown",
   "metadata": {},
   "source": [
    "# Chargement et visualisation des données "
   ]
  },
  {
   "cell_type": "code",
   "execution_count": 31,
   "metadata": {
    "scrolled": true
   },
   "outputs": [
    {
     "name": "stdout",
     "output_type": "stream",
     "text": [
      "(1797, 64)\n"
     ]
    },
    {
     "data": {
      "text/plain": [
       "<Figure size 432x288 with 0 Axes>"
      ]
     },
     "metadata": {},
     "output_type": "display_data"
    },
    {
     "data": {
      "image/png": "[encoded data removed]",
      "text/plain": [
       "<Figure size 288x288 with 1 Axes>"
      ]
     },
     "metadata": {},
     "output_type": "display_data"
    }
   ],
   "source": [
    "digits = load_digits()\n",
    "\n",
    "print(digits.data.shape)\n",
    "\n",
    "plt.gray() \n",
    "plt.matshow(digits.images[1]) \n",
    "plt.show() "
   ]
  },
  {
   "cell_type": "markdown",
   "metadata": {},
   "source": [
    "# Fonction erreurs "
   ]
  },
  {
   "cell_type": "code",
   "execution_count": 32,
   "metadata": {},
   "outputs": [],
   "source": [
    "def err(pred , y) : \n",
    "    err = 0\n",
    "    for j in range(len(y)) : \n",
    "        if pred[j] != y[j] : \n",
    "            err += 1      \n",
    "    return err/len(y)"
   ]
  },
  {
   "cell_type": "code",
   "execution_count": 33,
   "metadata": {},
   "outputs": [],
   "source": [
    "def err_par_classe(pred , y) : \n",
    "    val_possibles = np.unique(y).tolist()\n",
    "    count = [0 for i in range(len(val_possibles))]\n",
    "    err = [0 for i in range(len(val_possibles))]\n",
    "    for j in range(len(y)) : \n",
    "        count[val_possibles.index(y[j])]+= 1\n",
    "        if pred[j] != y[j] : \n",
    "            err[val_possibles.index(y[j])] += 1      \n",
    "    for i in range(len(err)) :\n",
    "        err[i] /= count[i]\n",
    "    return err"
   ]
  },
  {
   "cell_type": "markdown",
   "metadata": {},
   "source": [
    "# Evaluation du modèle rbf et choix du paramètre C "
   ]
  },
  {
   "cell_type": "code",
   "execution_count": 34,
   "metadata": {},
   "outputs": [],
   "source": [
    "n_samples = len(digits.images)\n",
    "data = digits.images.reshape((n_samples, -1))\n",
    "\n",
    "X_train, X_test, y_train, y_test = train_test_split(\n",
    "    data, digits.target, test_size=0.2, shuffle=True)\n",
    "\n",
    "c = [i/100 for i in range(1,10000, 100)] # pas à changer\n",
    "score = []\n",
    "error = []\n",
    "for i in c :  \n",
    "    clf_rbf = SVC(kernel='rbf', C=i)\n",
    "    clf_rbf.fit(X_train, y_train)\n",
    "    score.append(clf_rbf.score(X_test, y_test))\n",
    "    error.append(err(clf_rbf.predict(X_test),y_test))\n",
    "    "
   ]
  },
  {
   "cell_type": "code",
   "execution_count": 35,
   "metadata": {},
   "outputs": [],
   "source": [
    "inter_conf = []\n",
    "inter_conf.append([np.mean(score)-1.96*np.std(score)/np.sqrt(len(score)),np.mean(score)+1.96*np.std(score)/np.sqrt(len(score))])"
   ]
  },
  {
   "cell_type": "code",
   "execution_count": 36,
   "metadata": {
    "scrolled": true
   },
   "outputs": [
    {
     "data": {
      "image/png": "[encoded data removed]",
      "text/plain": [
       "<Figure size 432x288 with 1 Axes>"
      ]
     },
     "metadata": {},
     "output_type": "display_data"
    }
   ],
   "source": [
    "plt.plot(c[:20], score[:20], label = \"score\")\n",
    "plt.plot(c[:20], [inter_conf[0][0] for i in range(len(score))][:20] , \"r--\", label = \"Intervalle de confiance 95%\")\n",
    "plt.plot(c[:20], [inter_conf[0][1] for i in range(len(score))][:20] , \"r--\")\n",
    "plt.plot(c[:20], error[:20], label = \"error\")\n",
    "plt.legend() \n",
    "plt.title('Score en fonction de la valeur de C')\n",
    "plt.show()"
   ]
  },
  {
   "cell_type": "code",
   "execution_count": 37,
   "metadata": {},
   "outputs": [
    {
     "name": "stdout",
     "output_type": "stream",
     "text": [
      "Le meilleur résultat est obtenur lorsque C vaut  1.01\n"
     ]
    }
   ],
   "source": [
    "print('Le meilleur résultat est obtenur lorsque C vaut ',c[max([np.argmax(score),np.argmin(error)])])\n"
   ]
  },
  {
   "cell_type": "markdown",
   "metadata": {},
   "source": [
    "# Evaluation en fonction de C et Gamma du modèle rbf "
   ]
  },
  {
   "cell_type": "code",
   "execution_count": 64,
   "metadata": {},
   "outputs": [],
   "source": [
    "X_train, X_test, y_train, y_test = train_test_split(\n",
    "    data, digits.target, test_size=0.2, shuffle=True)\n",
    "\n",
    "c = [i/100 for i in range(1,10000, 100)] # pas à changer\n",
    "\n",
    "gam = [i for i in range(1,11)]\n",
    "error = []\n",
    "score = []\n",
    "for i in gam : \n",
    "    for j in c :\n",
    "        clf_rbf_2 = SVC(kernel='rbf', C=j, gamma = i)\n",
    "        clf_rbf_2.fit(X_train, y_train)\n",
    "        score.append(clf_rbf_2.score(X_test, y_test))\n",
    "        error.append(err(clf_rbf_2.predict(X_test),y_test))\n",
    "        \n"
   ]
  },
  {
   "cell_type": "code",
   "execution_count": 49,
   "metadata": {},
   "outputs": [],
   "source": [
    "inter_conf = []\n",
    "inter_conf.append([np.mean(score)-1.96*np.std(score)/np.sqrt(len(score)),np.mean(score)+1.96*np.std(score)/np.sqrt(len(score))])"
   ]
  },
  {
   "cell_type": "code",
   "execution_count": 53,
   "metadata": {},
   "outputs": [
    {
     "data": {
      "image/png": "[encoded data removed]",
      "text/plain": [
       "<Figure size 432x288 with 1 Axes>"
      ]
     },
     "metadata": {},
     "output_type": "display_data"
    }
   ],
   "source": [
    "plt.plot(c*len(gam), score, label = \"score\")\n",
    "plt.plot(c*len(gam), [inter_conf[0][0] for i in range(len(score))] , \"r--\", label = \"Intervalle de confiance 95%\")\n",
    "plt.plot(c*len(gam), [inter_conf[0][1] for i in range(len(score))] , \"r--\")\n",
    "plt.plot(c*len(gam), error, label = \"error\")\n",
    "plt.legend() \n",
    "plt.title('Score en fonction de la valeur de C')\n",
    "plt.show()"
   ]
  },
  {
   "cell_type": "markdown",
   "metadata": {},
   "source": [
    "La dernière fonction ne marche pas comme prévu et je n'arrive pas à trouver l'erreur. Dans la suite j'utilise directement GridSearchCV aonf de trouver les meilleures paramètres. "
   ]
  },
  {
   "cell_type": "markdown",
   "metadata": {},
   "source": [
    "# Automatisation de la recherche des meilleures hyperparamètres "
   ]
  },
  {
   "cell_type": "code",
   "execution_count": 51,
   "metadata": {},
   "outputs": [
    {
     "data": {
      "text/plain": [
       "GridSearchCV(estimator=SVC(),\n",
       "             param_grid=[{'C': [1, 10, 100, 1000], 'kernel': ['linear']},\n",
       "                         {'C': [1, 10, 100, 1000], 'gamma': [0.001, 0.0001],\n",
       "                          'kernel': ['rbf']},\n",
       "                         {'C': [1, 10, 100, 1000], 'degree': [1, 2, 3, 4, 5],\n",
       "                          'kernel': ['poly']}])"
      ]
     },
     "execution_count": 51,
     "metadata": {},
     "output_type": "execute_result"
    }
   ],
   "source": [
    "param_grid =[{'C': [1, 10, 100, 1000], 'kernel': ['linear']},\n",
    "  {'C': [1, 10, 100, 1000], 'gamma': [0.001, 0.0001], 'kernel': ['rbf']},\n",
    "  {'C': [1, 10, 100, 1000], 'degree': [1,2,3,4,5], 'kernel': ['poly']},]\n",
    " \n",
    "\n",
    "clf = GridSearchCV(SVC(), param_grid)\n",
    "clf.fit(X_train, y_train)"
   ]
  },
  {
   "cell_type": "code",
   "execution_count": 22,
   "metadata": {},
   "outputs": [
    {
     "data": {
      "text/plain": [
       "SVC(C=10, kernel='poly')"
      ]
     },
     "execution_count": 22,
     "metadata": {},
     "output_type": "execute_result"
    }
   ],
   "source": [
    "clf.best_estimator_"
   ]
  }
 ],
 "metadata": {
  "kernelspec": {
   "display_name": "Python 3",
   "language": "python",
   "name": "python3"
  },
  "language_info": {
   "codemirror_mode": {
    "name": "ipython",
    "version": 3
   },
   "file_extension": ".py",
   "mimetype": "text/x-python",
   "name": "python",
   "nbconvert_exporter": "python",
   "pygments_lexer": "ipython3",
   "version": "3.8.3"
  }
 },
 "nbformat": 4,
 "nbformat_minor": 4
}
